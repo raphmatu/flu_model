{
 "cells": [
  {
   "cell_type": "code",
   "execution_count": 1,
   "metadata": {},
   "outputs": [],
   "source": [
    "import pandas as pd\n",
    "import numpy as np\n",
    "from matplotlib.image import imsave\n",
    "import os\n",
    "\n",
    "import random\n",
    "import matplotlib.pyplot as plt\n",
    "import matplotlib.animation as animation\n",
    "\n",
    "%matplotlib inline"
   ]
  },
  {
   "cell_type": "markdown",
   "metadata": {},
   "source": [
    "# - FUNCTIONS"
   ]
  },
  {
   "cell_type": "code",
   "execution_count": 2,
   "metadata": {},
   "outputs": [],
   "source": [
    "def remove_negative_coord(array, liste):\n",
    "    \n",
    "    array_max = array.shape[0]\n",
    "    \n",
    "    liste_without_negative = []\n",
    "    \n",
    "    for element in liste:\n",
    "        if element[0] >= 0 and element[1] >= 0 and element[0] < array_max and element[1] < array_max:\n",
    "            liste_without_negative.append(element)\n",
    "            \n",
    "    return liste_without_negative"
   ]
  },
  {
   "cell_type": "code",
   "execution_count": 3,
   "metadata": {},
   "outputs": [],
   "source": [
    "def flatten_list_of_list(liste):\n",
    "    return [item for sublist in liste for item in sublist]"
   ]
  },
  {
   "cell_type": "code",
   "execution_count": 4,
   "metadata": {},
   "outputs": [],
   "source": [
    "def set_new_patient(array, liste_coord):\n",
    "\n",
    "    for coord in liste_coord:\n",
    "        array[coord[0], coord[1]] =1\n",
    "    \n",
    "    return array"
   ]
  },
  {
   "cell_type": "code",
   "execution_count": 5,
   "metadata": {},
   "outputs": [],
   "source": [
    "def neighbors(array, coord, radius=1):\n",
    "    all_neighbors_coord = []\n",
    "    \n",
    "    lst_coord = range(-radius, radius+1)\n",
    "    \n",
    "    for x in lst_coord:\n",
    "        for y in lst_coord:\n",
    "            if (x != coord[0]) or (y != coord[1]):\n",
    "                all_neighbors_coord.append([coord[0] + x,coord[1] + y])\n",
    "                \n",
    "    all_neighbors_coord = remove_negative_coord(array, all_neighbors_coord)\n",
    "                \n",
    "    return all_neighbors_coord"
   ]
  },
  {
   "cell_type": "code",
   "execution_count": 6,
   "metadata": {},
   "outputs": [],
   "source": [
    "def contamination_qty(liste, percent):\n",
    "\n",
    "    if percent != 0 :\n",
    "        n = 100//percent\n",
    "        return random.sample(liste, len(liste)//n)\n",
    "    else:\n",
    "        return liste"
   ]
  },
  {
   "cell_type": "code",
   "execution_count": 7,
   "metadata": {},
   "outputs": [],
   "source": [
    "def remove_old_patient(array, liste_coord):\n",
    "    \n",
    "    liste_coord = flatten_list_of_list(liste_coord)\n",
    "    \n",
    "    for coord in liste_coord:\n",
    "        array[coord[0], coord[1]] = 0\n",
    "    \n",
    "    return array"
   ]
  },
  {
   "cell_type": "code",
   "execution_count": 8,
   "metadata": {},
   "outputs": [],
   "source": [
    "def remove_vacc_patient(array, liste_coord):\n",
    "    \n",
    "    for coord in liste_coord:\n",
    "        array[coord[0], coord[1]] = 0\n",
    "    \n",
    "    return array\n",
    "    "
   ]
  },
  {
   "cell_type": "markdown",
   "metadata": {},
   "source": [
    "# - SET POPULATION"
   ]
  },
  {
   "cell_type": "markdown",
   "metadata": {},
   "source": [
    "- All pop"
   ]
  },
  {
   "cell_type": "code",
   "execution_count": 44,
   "metadata": {},
   "outputs": [
    {
     "name": "stdout",
     "output_type": "stream",
     "text": [
      "position patient 0 : (186, 336)\n"
     ]
    }
   ],
   "source": [
    "pop_size = 500\n",
    "\n",
    "pop = np.zeros((pop_size,pop_size), dtype=int)\n",
    "\n",
    "patient_0_x = np.random.randint(pop_size)\n",
    "patient_0_y = np.random.randint(pop_size)\n",
    "\n",
    "patient_0_x = 186\n",
    "patient_0_y = 336\n",
    "\n",
    "pop[patient_0_x][patient_0_y] = 1\n",
    "\n",
    "print('position patient 0 : ({}, {})'.format(patient_0_x, patient_0_y))"
   ]
  },
  {
   "cell_type": "markdown",
   "metadata": {},
   "source": [
    "- Vacc pop"
   ]
  },
  {
   "cell_type": "code",
   "execution_count": 45,
   "metadata": {},
   "outputs": [],
   "source": [
    "vacc = np.random.choice([0, 1], size=pop_size*pop_size, p=[1, 0]).astype(int)\n",
    "vacc = np.reshape(vacc, (pop_size, pop_size))\n",
    "loc_vacc = np.transpose(np.where(vacc==1))\n"
   ]
  },
  {
   "cell_type": "code",
   "execution_count": 46,
   "metadata": {},
   "outputs": [
    {
     "data": {
      "text/plain": [
       "0"
      ]
     },
     "execution_count": 46,
     "metadata": {},
     "output_type": "execute_result"
    }
   ],
   "source": [
    "len(loc_vacc)"
   ]
  },
  {
   "cell_type": "markdown",
   "metadata": {},
   "source": [
    "# - ITERATE CONTAMINATION"
   ]
  },
  {
   "cell_type": "code",
   "execution_count": 47,
   "metadata": {},
   "outputs": [],
   "source": [
    "old_patient = []\n",
    "all_new_contaminated = []\n",
    "pop_without_old_patient = pop\n",
    "qty = 20\n",
    "folder = 'images/vacc_0_neighbors_divided_by_{}'.format(qty)\n",
    "\n",
    "os.makedirs(folder, exist_ok=True)"
   ]
  },
  {
   "cell_type": "code",
   "execution_count": 48,
   "metadata": {
    "scrolled": false
   },
   "outputs": [],
   "source": [
    "imsave('{}/conta_0.jpg'.format(folder), pop, cmap='binary')\n",
    "\n",
    "for i in range(99):\n",
    "    \n",
    "    all_new_contaminated = []\n",
    "    location_patient = np.transpose(np.where(pop==1))\n",
    "    \n",
    "    for location in location_patient:\n",
    "        \n",
    "        local_new_patient = neighbors(pop, location, radius=2)\n",
    "        local_new_patient = random.sample(local_new_patient, len(local_new_patient)//qty)\n",
    "        \n",
    "        all_new_contaminated.append(local_new_patient)\n",
    "    all_new_contaminated = flatten_list_of_list(all_new_contaminated)\n",
    "    pop = set_new_patient(pop, all_new_contaminated)\n",
    "    old_patient.append(location_patient)\n",
    "    pop = remove_vacc_patient(pop, loc_vacc)\n",
    "    pop_without_old_patient = remove_old_patient(pop, old_patient)\n",
    "    \n",
    "    imsave('{}/conta_{}.jpg'.format(folder, i+1), pop_without_old_patient, cmap='binary')"
   ]
  },
  {
   "cell_type": "code",
   "execution_count": null,
   "metadata": {},
   "outputs": [],
   "source": []
  },
  {
   "cell_type": "code",
   "execution_count": null,
   "metadata": {},
   "outputs": [],
   "source": []
  },
  {
   "cell_type": "code",
   "execution_count": null,
   "metadata": {},
   "outputs": [],
   "source": []
  },
  {
   "cell_type": "code",
   "execution_count": null,
   "metadata": {},
   "outputs": [],
   "source": []
  },
  {
   "cell_type": "code",
   "execution_count": null,
   "metadata": {},
   "outputs": [],
   "source": []
  },
  {
   "cell_type": "code",
   "execution_count": null,
   "metadata": {},
   "outputs": [],
   "source": []
  },
  {
   "cell_type": "code",
   "execution_count": null,
   "metadata": {},
   "outputs": [],
   "source": []
  },
  {
   "cell_type": "code",
   "execution_count": null,
   "metadata": {},
   "outputs": [],
   "source": []
  }
 ],
 "metadata": {
  "kernelspec": {
   "display_name": "Python 3",
   "language": "python",
   "name": "python3"
  },
  "language_info": {
   "codemirror_mode": {
    "name": "ipython",
    "version": 3
   },
   "file_extension": ".py",
   "mimetype": "text/x-python",
   "name": "python",
   "nbconvert_exporter": "python",
   "pygments_lexer": "ipython3",
   "version": "3.7.4"
  }
 },
 "nbformat": 4,
 "nbformat_minor": 2
}
